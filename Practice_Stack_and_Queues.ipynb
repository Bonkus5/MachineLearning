{
  "nbformat": 4,
  "nbformat_minor": 0,
  "metadata": {
    "colab": {
      "provenance": [],
      "authorship_tag": "ABX9TyO0P7I3dBFc5Hw9ugVzZdL9",
      "include_colab_link": true
    },
    "kernelspec": {
      "name": "python3",
      "display_name": "Python 3"
    },
    "language_info": {
      "name": "python"
    }
  },
  "cells": [
    {
      "cell_type": "markdown",
      "metadata": {
        "id": "view-in-github",
        "colab_type": "text"
      },
      "source": [
        "<a href=\"https://colab.research.google.com/github/Bonkus5/MachineLearning/blob/master/Practice_Stack_and_Queues.ipynb\" target=\"_parent\"><img src=\"https://colab.research.google.com/assets/colab-badge.svg\" alt=\"Open In Colab\"/></a>"
      ]
    },
    {
      "cell_type": "code",
      "execution_count": 41,
      "metadata": {
        "id": "N-eGMH9y_bDN",
        "colab": {
          "base_uri": "https://localhost:8080/"
        },
        "outputId": "4f306aef-32f8-4812-9ec9-ca3bdf1f3a02"
      },
      "outputs": [
        {
          "output_type": "stream",
          "name": "stdout",
          "text": [
            "[1, 2, 3, 4]\n",
            "4\n"
          ]
        }
      ],
      "source": [
        "class Stack():\n",
        "  def __init__(self):\n",
        "    self.mystack = list()\n",
        "    self.size = 0\n",
        "    self.capacity = 5\n",
        "    # self.capacity = size\n",
        "  def push(self,num):\n",
        "    if self.isfull():\n",
        "      print('stack over flow')\n",
        "      return\n",
        "    # print('Add to stack')\n",
        "    self.mystack.append(num)\n",
        "    self.size += 1\n",
        "  def delete(self):\n",
        "    if self.isempty():\n",
        "      print('can not delete from an empty stack')\n",
        "      return\n",
        "    return self.mystack.pop()\n",
        "    self.size -= 1\n",
        "  def peek(self):\n",
        "    return self.mystack[-1]\n",
        "  # def __str__(self):\n",
        "  #   return str(self.mystack)\n",
        "  def stacksize(self):\n",
        "    return self.size\n",
        "  def __repr__(self):\n",
        "    return repr(self.mystack)\n",
        "  def isfull(self):\n",
        "    return self.size == self.capacity\n",
        "  def isempty(self):\n",
        "    return self.size == 0\n",
        "\n",
        "stack = Stack()\n",
        "New = [1,2,3,4]\n",
        "for i in New:\n",
        "  stack.push(i)\n",
        "print(stack)\n",
        "print(stack.size)\n",
        "# print(stack.peek())\n",
        "# print(stack.delete())\n"
      ]
    },
    {
      "cell_type": "code",
      "source": [
        "###Recursion\n",
        "def factorial(n):\n",
        "  if (n==1) or (n==0):\n",
        "    return 1\n",
        "  return n*factorial(n-1)\n",
        "Newfac = factorial(8)\n",
        "Newfac"
      ],
      "metadata": {
        "colab": {
          "base_uri": "https://localhost:8080/"
        },
        "id": "NmvyL7tVfXtO",
        "outputId": "77a517a8-7040-4c3b-a402-e2b0ef25a196"
      },
      "execution_count": 28,
      "outputs": [
        {
          "output_type": "execute_result",
          "data": {
            "text/plain": [
              "40320"
            ]
          },
          "metadata": {},
          "execution_count": 28
        }
      ]
    },
    {
      "cell_type": "code",
      "source": [
        "### Need inbuilt function called deque found in collections - FIFO\n",
        "### with deque popleft(): for deleting the first index item/ pop() for removing last element\n",
        "### instead of push use enqueue\n",
        "### use dequeue instead of delete\n",
        "\n",
        "from collections import deque\n",
        "\n",
        "class Queue():\n",
        "  def __init__(self):\n",
        "    self.myqueue = deque()\n",
        "    self.queuesize = 0\n",
        "    self.capacity = 5\n",
        "  def __str__(self):\n",
        "    return str(self.myqueue) \n",
        "  def enqueue(self,num):\n",
        "    if self.is_full():\n",
        "      print('queue at capacity')\n",
        "      return\n",
        "    self.myqueue.append(num)\n",
        "    self.queuesize +=1\n",
        "  def dequeue(self):\n",
        "    if self.is_empty():\n",
        "      print('No one is queue')\n",
        "      return\n",
        "    self.myqueue.popleft()\n",
        "    self.queuesize -= 1\n",
        "  def end_dequeue(self):\n",
        "    if self.is_empty():\n",
        "      print('No one is queue')\n",
        "      return\n",
        "    self.myqueue.pop()\n",
        "    self.queuesize -= 1\n",
        "  def is_full(self):\n",
        "    return self.queuesize == self.capacity\n",
        "  def is_empty(self):\n",
        "    return self.queuesize == 0\n",
        "  def insert(self,num,index):\n",
        "    self.myqueue.insert(index,num)\n",
        "\n",
        "\n",
        "queue = Queue()\n",
        "Queuelength = [1,2,3,4,5,6]\n",
        "for q in Queuelength:\n",
        "  queue.enqueue(q)\n",
        "print(queue)\n",
        "print(queue.queuesize)\n",
        "queue.dequeue()\n",
        "print(queue)\n",
        "print(queue.queuesize)\n",
        "queue.end_dequeue()\n",
        "print(queue)\n",
        "print(queue.queuesize)\n",
        "queue.insert(2,10)\n",
        "print(queue)\n",
        "  \n",
        "\n"
      ],
      "metadata": {
        "colab": {
          "base_uri": "https://localhost:8080/"
        },
        "id": "b0_vRdfQ4eKp",
        "outputId": "102615af-8b09-4487-83a5-d8768d10aa25"
      },
      "execution_count": 53,
      "outputs": [
        {
          "output_type": "stream",
          "name": "stdout",
          "text": [
            "queue at capacity\n",
            "deque([1, 2, 3, 4, 5])\n",
            "5\n",
            "deque([2, 3, 4, 5])\n",
            "4\n",
            "deque([2, 3, 4])\n",
            "3\n",
            "deque([2, 3, 4, 2])\n"
          ]
        }
      ]
    },
    {
      "cell_type": "code",
      "source": [],
      "metadata": {
        "id": "BCiQcvkNLveT"
      },
      "execution_count": null,
      "outputs": []
    }
  ]
}