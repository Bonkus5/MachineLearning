{
  "nbformat": 4,
  "nbformat_minor": 0,
  "metadata": {
    "colab": {
      "provenance": [],
      "authorship_tag": "ABX9TyOZDWKBEiqtkQ2OPYgL5SAH",
      "include_colab_link": true
    },
    "kernelspec": {
      "name": "python3",
      "display_name": "Python 3"
    },
    "language_info": {
      "name": "python"
    }
  },
  "cells": [
    {
      "cell_type": "markdown",
      "metadata": {
        "id": "view-in-github",
        "colab_type": "text"
      },
      "source": [
        "<a href=\"https://colab.research.google.com/github/Bonkus5/MachineLearning/blob/master/Sorting.ipynb\" target=\"_parent\"><img src=\"https://colab.research.google.com/assets/colab-badge.svg\" alt=\"Open In Colab\"/></a>"
      ]
    },
    {
      "cell_type": "code",
      "execution_count": null,
      "metadata": {
        "colab": {
          "base_uri": "https://localhost:8080/"
        },
        "id": "h5pv00RKbXso",
        "outputId": "384b2f30-1ad3-411d-89a6-6f4fb37b1b1c"
      },
      "outputs": [
        {
          "output_type": "stream",
          "name": "stdout",
          "text": [
            "[12]\n"
          ]
        }
      ],
      "source": [
        "## Sorting Algorithms\n",
        "## Types:\n",
        "## 1. Bogo Sort - using random shuffling to sort a given list/data\n",
        "## Example: values = [12, 55, 1, 71, 3, 2, 100, 41, 24, 6]\n",
        "## ex: values = [1, 2, 7, 9, 15]\n",
        "\n",
        "from random import shuffle\n",
        "\n",
        "def Bogosort(values):\n",
        "  attempt = 0\n",
        "  while not issorted(values):\n",
        "    print(attempt)\n",
        "    shuffle(values)\n",
        "    attempt +=1\n",
        "  return values\n",
        "\n",
        "def issorted(values):\n",
        "  for item in range(len(values)-1):\n",
        "    if values[item] > values[item+1]:\n",
        "      return False\n",
        "  return True\n",
        "\n",
        "values = [12]\n",
        "y = Bogosort(values)\n",
        "print(y)"
      ]
    },
    {
      "cell_type": "code",
      "source": [
        "## 2. Merge Sort\n",
        "## This sort algorithm works by dividing the given list into equal halves\n",
        "## until each item stands alone\n",
        "## worst case run time of O(n)\n",
        "## Ex: values = [7, 5, 2, 4, 3, 6, 8, 1]\n",
        "## leftside = [7, 5, 2, 4] and rightside = [3, 6, 8, 1]\n",
        "\n",
        "def mergesort(values):\n",
        "  if len(values) <= 1:\n",
        "    return values\n",
        "  left, right = split(values)\n",
        "  leftside = mergesort(left)\n",
        "  rightside = mergesort(right)\n",
        "  return merge(leftside,rightside)\n",
        "\n",
        "def split(values):\n",
        "  mid = len(values)//2\n",
        "  lower = values[:mid]\n",
        "  upper = values[mid:]\n",
        "  return lower, upper\n",
        "\n",
        "def merge(leftside,rightside):\n",
        "  Newvalues = []\n",
        "  i,j = 0,0 ## dummy variables\n",
        "  while i < len(leftside) and j < len(rightside):\n",
        "    if leftside[i] < rightside[j]:\n",
        "      Newvalues.append(leftside[i])\n",
        "      i += 1\n",
        "    else:\n",
        "      Newvalues.append(rightside[j])\n",
        "      j += 1\n",
        "  while i < len(leftside):\n",
        "    Newvalues.append(leftside[i])\n",
        "    i += 1\n",
        "  while j < len(rightside):\n",
        "    Newvalues.append(rightside[j])\n",
        "    j += 1\n",
        "  return Newvalues\n",
        "\n",
        "values = [7, 5, 2, 4, 3, 6, 8, 1,4,3,8]\n",
        "MS = mergesort(values)\n",
        "print(MS)"
      ],
      "metadata": {
        "colab": {
          "base_uri": "https://localhost:8080/"
        },
        "id": "fi5v8sYNjPZS",
        "outputId": "2d4b3235-ef8e-46e2-fc2a-18a15e56d9cf"
      },
      "execution_count": null,
      "outputs": [
        {
          "output_type": "stream",
          "name": "stdout",
          "text": [
            "[1, 2, 3, 3, 4, 4, 5, 6, 7, 8, 8]\n"
          ]
        }
      ]
    },
    {
      "cell_type": "code",
      "source": [
        "## Bubble sort\n",
        "##It is a comparison-based algorithm in which each pair of adjacent elements\n",
        "## are compared and the elements are swapped if they are not in order\n",
        "## worst case run time of O(n**2)\n",
        "## Example: values = [7, 5, 2, 4, 3, 6, 8, 1, 4, 3]\n",
        "\n",
        "\n",
        "def Bubblesort(values):\n",
        "  for k in range(len(values)-1, 0, -1):\n",
        "    for i in range(k):\n",
        "      if values[i] > values[i+1]:\n",
        "        values[i], values[i+1] = values[i+1], values[i]\n",
        "  return values\n",
        "\n",
        "values = [7, 5, 2, 4, 3, 6, 8, 1, 4, 3]\n",
        "y = Bubblesort(values)\n",
        "print(y)"
      ],
      "metadata": {
        "colab": {
          "base_uri": "https://localhost:8080/"
        },
        "id": "KqB4nE1DhW8z",
        "outputId": "74861f4d-69ad-4a1e-8008-bb42a596c1b6"
      },
      "execution_count": null,
      "outputs": [
        {
          "output_type": "stream",
          "name": "stdout",
          "text": [
            "[1, 2, 3, 3, 4, 4, 5, 6, 7, 8]\n"
          ]
        }
      ]
    },
    {
      "cell_type": "code",
      "source": [
        "## Selection Sort\n",
        "## worst case run time of O(n**2)\n",
        "\n",
        "def SelectionSort(Values):\n",
        "  for i in range(len(values)): # 0-9\n",
        "    min_idx = i\n",
        "    for k in range(i+1, len(values)): #1-9\n",
        "      if values[min_idx] > values[k]:\n",
        "        min_idx = k\n",
        "    values[i],values[min_idx] = values[min_idx], values[i]\n",
        "  return values\n",
        "\n",
        "values = [7, 5, 2, 4, 3, 6, 8, 1, 4, 3]\n",
        "y = SelectionSort(values)\n",
        "print(y)"
      ],
      "metadata": {
        "colab": {
          "base_uri": "https://localhost:8080/"
        },
        "id": "PygvF7zKQnyB",
        "outputId": "39d07bf9-d02e-493d-9952-6906285ffded"
      },
      "execution_count": null,
      "outputs": [
        {
          "output_type": "stream",
          "name": "stdout",
          "text": [
            "[1, 2, 3, 3, 4, 4, 5, 6, 7, 8]\n"
          ]
        }
      ]
    },
    {
      "cell_type": "code",
      "source": [
        "##"
      ],
      "metadata": {
        "id": "JqpLzHKnU-OF"
      },
      "execution_count": null,
      "outputs": []
    },
    {
      "cell_type": "code",
      "source": [
        "## Insertion Sort\n",
        "## Example: values = [7, 5, 2, 4, 3, 6, 8, 1, 4, 3]\n",
        "## worst case run time of O(n**2)\n",
        "\n",
        "x = [3, {5}, 3]\n",
        "\n",
        "def InsertionSort(values):\n",
        "  for next in range(1, len(values)):\n",
        "    prev = next - 1\n",
        "    next_val = values[next]\n",
        "    while values[prev] > next_val and prev >= 0:\n",
        "      values[prev+1] = values[prev]\n",
        "      prev -= 1\n",
        "    values[prev+1] = next_val\n",
        "  return values\n",
        "\n",
        "values = [7, 5, 2, 4, 3, 6, 8, 1, 4, 3]\n",
        "y = InsertionSort(values)\n",
        "print(y)"
      ],
      "metadata": {
        "colab": {
          "base_uri": "https://localhost:8080/"
        },
        "id": "kJiaMegrOB-e",
        "outputId": "73b793cd-d226-4df2-b94e-ae35f32800e9"
      },
      "execution_count": null,
      "outputs": [
        {
          "output_type": "stream",
          "name": "stdout",
          "text": [
            "[1, 2, 3, 3, 4, 4, 5, 6, 7, 8]\n"
          ]
        }
      ]
    },
    {
      "cell_type": "code",
      "source": [
        "## Quick Sort\n",
        "from random import randint\n",
        "\n",
        "def Quicksort(values):\n",
        "  if len(values) <= 1:\n",
        "    return values\n",
        "  low, high, same = [], [], []\n",
        "  pivot = values[randint(0,len(values)-1)]\n",
        "  for value in values:\n",
        "    if value == pivot:\n",
        "      same.append(value)\n",
        "    elif value < pivot:\n",
        "      low.append(value)\n",
        "    elif value > pivot:\n",
        "      high.append(value)\n",
        "  return Quicksort(low) + same + Quicksort(high)\n",
        "\n",
        "values = [7, 5, 2, 4, 3, 6, 8, 1, 4, 3]\n",
        "y = Quicksort(values)\n",
        "print(y)\n",
        ""
      ],
      "metadata": {
        "colab": {
          "base_uri": "https://localhost:8080/"
        },
        "id": "kUNIuL6TfCHI",
        "outputId": "0465d480-e17b-47a6-cad6-da4741cb341d"
      },
      "execution_count": null,
      "outputs": [
        {
          "output_type": "stream",
          "name": "stdout",
          "text": [
            "[1, 2, 3, 3, 4, 4, 5, 6, 7, 8]\n"
          ]
        }
      ]
    }
  ]
}